{
 "cells": [
  {
   "cell_type": "code",
   "execution_count": 1,
   "metadata": {
    "collapsed": true
   },
   "outputs": [],
   "source": [
    "%load_ext autoreload\n",
    "%autoreload 2\n",
    "%matplotlib inline"
   ]
  },
  {
   "cell_type": "code",
   "execution_count": 89,
   "metadata": {
    "collapsed": true
   },
   "outputs": [],
   "source": [
    "import numpy as np\n",
    "import matplotlib as mpl\n",
    "import matplotlib.pyplot as plt\n",
    "import seaborn as sns\n",
    "sns.set_style(\"whitegrid\")"
   ]
  },
  {
   "cell_type": "code",
   "execution_count": 127,
   "metadata": {
    "collapsed": true
   },
   "outputs": [],
   "source": [
    "from collections import Counter\n",
    "import pandas as pd\n",
    "\n",
    "def describe_answer(path='./data/mc500.test.ans'):\n",
    "    ans_lst = []\n",
    "    with open(path) as f:\n",
    "        for line in f:\n",
    "            ans_lst.extend(line.strip().split())\n",
    "    ans_ser = pd.Series(ans_lst).value_counts()\n",
    "    ans_des_ser = ans_ser/ans_ser.sum()\n",
    "    print('Answer Path:', path)\n",
    "    print(ans_des_ser)\n",
    "    print()\n",
    "    return ans_des_ser\n",
    "\n",
    "def describe_lst(lst, original=False):\n",
    "    ser = pd.Series(lst).value_counts()\n",
    "    ser_des = ser/ser.sum()\n",
    "    print (ser_des)\n",
    "    print ()\n",
    "    if not original:\n",
    "        return ser_des\n",
    "    else:\n",
    "        return ser"
   ]
  },
  {
   "cell_type": "code",
   "execution_count": 4,
   "metadata": {},
   "outputs": [
    {
     "data": {
      "text/plain": [
       "Counter({'A': 141, 'B': 146, 'C': 145, 'D': 168})"
      ]
     },
     "execution_count": 4,
     "metadata": {},
     "output_type": "execute_result"
    }
   ],
   "source": [
    "\n",
    "ans_dct = Counter(ans_lst)\n",
    "ans_dct"
   ]
  },
  {
   "cell_type": "code",
   "execution_count": 144,
   "metadata": {},
   "outputs": [
    {
     "name": "stdout",
     "output_type": "stream",
     "text": [
      "Answer Path: ./data/mc500.train.ans\n",
      "D    0.271667\n",
      "C    0.252500\n",
      "A    0.240000\n",
      "B    0.235833\n",
      "dtype: float64\n",
      "\n",
      "Answer Path: ./data/mc500.dev.ans\n",
      "A    0.275\n",
      "C    0.275\n",
      "B    0.250\n",
      "D    0.200\n",
      "dtype: float64\n",
      "\n",
      "Answer Path: ./data/mc500.test.ans\n",
      "D    0.280000\n",
      "B    0.243333\n",
      "C    0.241667\n",
      "A    0.235000\n",
      "dtype: float64\n",
      "\n"
     ]
    }
   ],
   "source": [
    "train_des = describe_answer('./data/mc500.train.ans')\n",
    "dev_des = describe_answer('./data/mc500.dev.ans')\n",
    "test_des = describe_answer('./data/mc500.test.ans')"
   ]
  },
  {
   "cell_type": "code",
   "execution_count": 140,
   "metadata": {},
   "outputs": [
    {
     "name": "stdout",
     "output_type": "stream",
     "text": [
      "Answer Path: ./data/mc160.train.ans\n",
      "C    0.292857\n",
      "A    0.253571\n",
      "B    0.228571\n",
      "D    0.225000\n",
      "dtype: float64\n",
      "\n",
      "Answer Path: ./data/mc160.dev.ans\n",
      "C    0.316667\n",
      "B    0.291667\n",
      "D    0.241667\n",
      "A    0.150000\n",
      "dtype: float64\n",
      "\n",
      "Answer Path: ./data/mc160.test.ans\n",
      "C    0.275000\n",
      "B    0.250000\n",
      "D    0.241667\n",
      "A    0.233333\n",
      "dtype: float64\n",
      "\n"
     ]
    },
    {
     "data": {
      "text/plain": [
       "C    0.275000\n",
       "B    0.250000\n",
       "D    0.241667\n",
       "A    0.233333\n",
       "dtype: float64"
      ]
     },
     "execution_count": 140,
     "metadata": {},
     "output_type": "execute_result"
    }
   ],
   "source": [
    "describe_answer('./data/mc160.train.ans')\n",
    "describe_answer('./data/mc160.dev.ans')\n",
    "describe_answer('./data/mc160.test.ans')"
   ]
  },
  {
   "cell_type": "code",
   "execution_count": 146,
   "metadata": {},
   "outputs": [
    {
     "data": {
      "text/plain": [
       "0.23333333333333334"
      ]
     },
     "execution_count": 146,
     "metadata": {},
     "output_type": "execute_result"
    }
   ],
   "source": [
    "import json\n",
    "with open('./correct_160.json', encoding='utf8') as f:\n",
    "    correct = json.load(f)\n",
    "correct\n",
    "with open('./wrong_160.json', encoding='utf8') as f:\n",
    "    wrong = json.load(f)\n",
    "wrong\n",
    "len(correct)/(len(correct) + len(wrong))"
   ]
  },
  {
   "cell_type": "code",
   "execution_count": 147,
   "metadata": {
    "scrolled": true
   },
   "outputs": [
    {
     "data": {
      "text/plain": [
       "0.21166666666666667"
      ]
     },
     "execution_count": 147,
     "metadata": {},
     "output_type": "execute_result"
    }
   ],
   "source": [
    "import json\n",
    "with open('./correct_500.json', encoding='utf8') as f:\n",
    "    correct = json.load(f)\n",
    "correct\n",
    "with open('./wrong_500.json', encoding='utf8') as f:\n",
    "    wrong = json.load(f)\n",
    "wrong\n",
    "len(correct)/(len(correct) + len(wrong))"
   ]
  },
  {
   "cell_type": "code",
   "execution_count": 184,
   "metadata": {},
   "outputs": [
    {
     "data": {
      "text/plain": [
       "0.21666666666666667"
      ]
     },
     "execution_count": 184,
     "metadata": {},
     "output_type": "execute_result"
    }
   ],
   "source": [
    "import json\n",
    "with open('./correct_500.json', encoding='utf8') as f:\n",
    "    correct = json.load(f)\n",
    "correct\n",
    "with open('./wrong_500.json', encoding='utf8') as f:\n",
    "    wrong = json.load(f)\n",
    "wrong\n",
    "len(correct)/(len(correct) + len(wrong))"
   ]
  },
  {
   "cell_type": "code",
   "execution_count": 185,
   "metadata": {},
   "outputs": [
    {
     "name": "stdout",
     "output_type": "stream",
     "text": [
      "0    0.748333\n",
      "2    0.121667\n",
      "1    0.073333\n",
      "3    0.056667\n",
      "dtype: float64\n",
      "\n"
     ]
    }
   ],
   "source": [
    "a = ([x[3] for x in wrong]) + ([x[3] for x in correct])\n",
    "pred_test_des = describe_lst(a)"
   ]
  },
  {
   "cell_type": "code",
   "execution_count": 186,
   "metadata": {},
   "outputs": [
    {
     "data": {
      "text/plain": [
       "0    0.748333\n",
       "2    0.121667\n",
       "1    0.073333\n",
       "3    0.056667\n",
       "dtype: float64"
      ]
     },
     "execution_count": 186,
     "metadata": {},
     "output_type": "execute_result"
    }
   ],
   "source": [
    "pred_test_des"
   ]
  },
  {
   "cell_type": "code",
   "execution_count": 187,
   "metadata": {},
   "outputs": [],
   "source": [
    "pred_test_des = pred_test_des.rename(dict(zip(range(4), ['A', 'B', 'C', 'D'])))"
   ]
  },
  {
   "cell_type": "code",
   "execution_count": 188,
   "metadata": {},
   "outputs": [
    {
     "data": {
      "text/html": [
       "<div>\n",
       "<style>\n",
       "    .dataframe thead tr:only-child th {\n",
       "        text-align: right;\n",
       "    }\n",
       "\n",
       "    .dataframe thead th {\n",
       "        text-align: left;\n",
       "    }\n",
       "\n",
       "    .dataframe tbody tr th {\n",
       "        vertical-align: top;\n",
       "    }\n",
       "</style>\n",
       "<table border=\"1\" class=\"dataframe\">\n",
       "  <thead>\n",
       "    <tr style=\"text-align: right;\">\n",
       "      <th></th>\n",
       "      <th>index</th>\n",
       "      <th>0</th>\n",
       "    </tr>\n",
       "  </thead>\n",
       "  <tbody>\n",
       "    <tr>\n",
       "      <th>0</th>\n",
       "      <td>A</td>\n",
       "      <td>0.748333</td>\n",
       "    </tr>\n",
       "    <tr>\n",
       "      <th>1</th>\n",
       "      <td>C</td>\n",
       "      <td>0.121667</td>\n",
       "    </tr>\n",
       "    <tr>\n",
       "      <th>2</th>\n",
       "      <td>B</td>\n",
       "      <td>0.073333</td>\n",
       "    </tr>\n",
       "    <tr>\n",
       "      <th>3</th>\n",
       "      <td>D</td>\n",
       "      <td>0.056667</td>\n",
       "    </tr>\n",
       "  </tbody>\n",
       "</table>\n",
       "</div>"
      ],
      "text/plain": [
       "  index         0\n",
       "0     A  0.748333\n",
       "1     C  0.121667\n",
       "2     B  0.073333\n",
       "3     D  0.056667"
      ]
     },
     "execution_count": 188,
     "metadata": {},
     "output_type": "execute_result"
    }
   ],
   "source": [
    "pred_test_des.reset_index()"
   ]
  },
  {
   "cell_type": "code",
   "execution_count": 189,
   "metadata": {},
   "outputs": [
    {
     "data": {
      "text/html": [
       "<div>\n",
       "<style>\n",
       "    .dataframe thead tr:only-child th {\n",
       "        text-align: right;\n",
       "    }\n",
       "\n",
       "    .dataframe thead th {\n",
       "        text-align: left;\n",
       "    }\n",
       "\n",
       "    .dataframe tbody tr th {\n",
       "        vertical-align: top;\n",
       "    }\n",
       "</style>\n",
       "<table border=\"1\" class=\"dataframe\">\n",
       "  <thead>\n",
       "    <tr style=\"text-align: right;\">\n",
       "      <th></th>\n",
       "      <th>index</th>\n",
       "      <th>0_x</th>\n",
       "      <th>0_y</th>\n",
       "      <th>0</th>\n",
       "    </tr>\n",
       "  </thead>\n",
       "  <tbody>\n",
       "    <tr>\n",
       "      <th>0</th>\n",
       "      <td>D</td>\n",
       "      <td>0.271667</td>\n",
       "      <td>0.200</td>\n",
       "      <td>0.280000</td>\n",
       "    </tr>\n",
       "    <tr>\n",
       "      <th>1</th>\n",
       "      <td>C</td>\n",
       "      <td>0.252500</td>\n",
       "      <td>0.275</td>\n",
       "      <td>0.241667</td>\n",
       "    </tr>\n",
       "    <tr>\n",
       "      <th>2</th>\n",
       "      <td>A</td>\n",
       "      <td>0.240000</td>\n",
       "      <td>0.275</td>\n",
       "      <td>0.235000</td>\n",
       "    </tr>\n",
       "    <tr>\n",
       "      <th>3</th>\n",
       "      <td>B</td>\n",
       "      <td>0.235833</td>\n",
       "      <td>0.250</td>\n",
       "      <td>0.243333</td>\n",
       "    </tr>\n",
       "  </tbody>\n",
       "</table>\n",
       "</div>"
      ],
      "text/plain": [
       "  index       0_x    0_y         0\n",
       "0     D  0.271667  0.200  0.280000\n",
       "1     C  0.252500  0.275  0.241667\n",
       "2     A  0.240000  0.275  0.235000\n",
       "3     B  0.235833  0.250  0.243333"
      ]
     },
     "execution_count": 189,
     "metadata": {},
     "output_type": "execute_result"
    }
   ],
   "source": [
    "(train_des.reset_index()\n",
    " .merge(dev_des.reset_index(), on='index')\n",
    " .merge(test_des.reset_index(), on='index'))"
   ]
  },
  {
   "cell_type": "code",
   "execution_count": 190,
   "metadata": {
    "scrolled": true
   },
   "outputs": [
    {
     "data": {
      "image/png": "[encoded data removed]",
      "text/plain": [
       "<matplotlib.figure.Figure at 0x1ad98c5ba58>"
      ]
     },
     "metadata": {},
     "output_type": "display_data"
    }
   ],
   "source": [
    "plot = (train_des.reset_index().rename(columns={0:'train'})\n",
    " .merge(test_des.reset_index().rename(columns={0:'test'}), on='index')\n",
    " .merge(dev_des.reset_index().rename(columns={0:'dev'}), on='index')\n",
    " .merge(pred_test_des.reset_index().rename(columns={0:'prediction_on_test'}), on='index')\n",
    " .set_index('index')\n",
    " .sort_index()\n",
    " .plot(kind='bar', alpha=.8, figsize=(10,5), rot=0))\n",
    "fig = plot.get_figure()\n",
    "fig.savefig(\"choice_des.png\", dpi=400)"
   ]
  },
  {
   "cell_type": "code",
   "execution_count": 191,
   "metadata": {
    "collapsed": true
   },
   "outputs": [],
   "source": [
    "test_data = {}\n",
    "with open('./data/mc500.test.tsv', encoding='utf-8') as f:\n",
    "    for line in f:\n",
    "        obj = json.loads(line)\n",
    "        test_data[obj['id']] = obj"
   ]
  },
  {
   "cell_type": "code",
   "execution_count": 193,
   "metadata": {},
   "outputs": [
    {
     "name": "stdout",
     "output_type": "stream",
     "text": [
      "what     0.516667\n",
      "who      0.126667\n",
      "other    0.105000\n",
      "why      0.103333\n",
      "where    0.096667\n",
      "which    0.040000\n",
      "when     0.011667\n",
      "dtype: float64\n",
      "\n",
      "what     0.484615\n",
      "other    0.169231\n",
      "where    0.107692\n",
      "who      0.100000\n",
      "why      0.084615\n",
      "which    0.046154\n",
      "when     0.007692\n",
      "dtype: float64\n",
      "\n"
     ]
    },
    {
     "data": {
      "image/png": "[encoded data removed]",
      "text/plain": [
       "<matplotlib.figure.Figure at 0x1ad98761710>"
      ]
     },
     "metadata": {},
     "output_type": "display_data"
    }
   ],
   "source": [
    "correct_info = []\n",
    "for case in correct:\n",
    "    obj = test_data[case[0]]\n",
    "    qa_obj = obj['questions'][case[1]]\n",
    "    q_type = qa_obj['tokens'][0].lower()\n",
    "    if q_type in ['what', 'when', 'where', 'which', 'who', 'why']:\n",
    "        correct_info.append(q_type)\n",
    "    else:\n",
    "        correct_info.append('other')\n",
    "        \n",
    "q_type_lst = []\n",
    "for obj in test_data.values():\n",
    "    for qa_obj in obj['questions']:\n",
    "        q_type = qa_obj['tokens'][0].lower()\n",
    "        if q_type in ['what', 'when', 'where', 'which', 'who', 'why']:\n",
    "            q_type_lst.append(q_type)\n",
    "        else:\n",
    "            q_type_lst.append('other')\n",
    "q_type_dct = Counter(q_type_lst)    \n",
    "test_q_type = describe_lst(q_type_lst, True)\n",
    "pred_q_type = describe_lst(correct_info, True)\n",
    "ax = pred_q_type.div(test_q_type, fill_value=0).plot(kind='bar', alpha=.8, rot=0, figsize=(10, 5))\n",
    "fig = ax.get_figure()\n",
    "fig.savefig(\"q_type_break.png\", dpi=400)"
   ]
  },
  {
   "cell_type": "code",
   "execution_count": 176,
   "metadata": {},
   "outputs": [
    {
     "data": {
      "text/plain": [
       "<matplotlib.axes._subplots.AxesSubplot at 0x1ad98b79ef0>"
      ]
     },
     "execution_count": 176,
     "metadata": {},
     "output_type": "execute_result"
    },
    {
     "data": {
      "image/png": "[encoded data removed]",
      "text/plain": [
       "<matplotlib.figure.Figure at 0x1ad98b796a0>"
      ]
     },
     "metadata": {},
     "output_type": "display_data"
    }
   ],
   "source": [
    "(test_q_type/test_q_type.sum()).plot(kind='bar', rot=0)"
   ]
  },
  {
   "cell_type": "code",
   "execution_count": 177,
   "metadata": {},
   "outputs": [
    {
     "data": {
      "text/plain": [
       "<matplotlib.axes._subplots.AxesSubplot at 0x1ad984db5f8>"
      ]
     },
     "execution_count": 177,
     "metadata": {},
     "output_type": "execute_result"
    },
    {
     "data": {
      "image/png": "[encoded data removed]",
      "text/plain": [
       "<matplotlib.figure.Figure at 0x1ad98b85a90>"
      ]
     },
     "metadata": {},
     "output_type": "display_data"
    }
   ],
   "source": []
  },
  {
   "cell_type": "code",
   "execution_count": 181,
   "metadata": {},
   "outputs": [
    {
     "data": {
      "text/plain": [
       "{'description': 'Author: 3263425784;Work Time(s): 1151;Qual. score: 95;Creativity Words: shoe,pillow,kick,noodle,leg,rinse,bye,stairway,butt,button,gum,shouting,telephone,die,eat',\n",
       " 'id': 'mc500.test.0',\n",
       " 'passage': ['It',\n",
       "  'was',\n",
       "  'Sally',\n",
       "  \"'s\",\n",
       "  'birthday',\n",
       "  'She',\n",
       "  'was',\n",
       "  'very',\n",
       "  'excited',\n",
       "  'She',\n",
       "  'was',\n",
       "  'going',\n",
       "  'to',\n",
       "  'have',\n",
       "  'a',\n",
       "  'sleepover',\n",
       "  'at',\n",
       "  'her',\n",
       "  'house',\n",
       "  'for',\n",
       "  'her',\n",
       "  'birthday',\n",
       "  'She',\n",
       "  'invited',\n",
       "  'all',\n",
       "  'of',\n",
       "  'her',\n",
       "  'best',\n",
       "  'friends',\n",
       "  'The',\n",
       "  'party',\n",
       "  'was',\n",
       "  'at',\n",
       "  '1',\n",
       "  'on',\n",
       "  'Saturday',\n",
       "  'Jessica',\n",
       "  'Erin',\n",
       "  'and',\n",
       "  'Cathy',\n",
       "  'all',\n",
       "  'arrived',\n",
       "  'at',\n",
       "  '1',\n",
       "  'but',\n",
       "  'Jennifer',\n",
       "  'was',\n",
       "  'late',\n",
       "  'She',\n",
       "  'did',\n",
       "  'not',\n",
       "  'come',\n",
       "  'until',\n",
       "  '2',\n",
       "  'because',\n",
       "  'she',\n",
       "  'could',\n",
       "  'not',\n",
       "  'find',\n",
       "  'her',\n",
       "  'other',\n",
       "  'shoe',\n",
       "  'The',\n",
       "  'first',\n",
       "  'thing',\n",
       "  'they',\n",
       "  'all',\n",
       "  'did',\n",
       "  'was',\n",
       "  'go',\n",
       "  'swimming',\n",
       "  'in',\n",
       "  'her',\n",
       "  'pool',\n",
       "  'They',\n",
       "  'had',\n",
       "  'so',\n",
       "  'much',\n",
       "  'fun',\n",
       "  'They',\n",
       "  'played',\n",
       "  'with',\n",
       "  'the',\n",
       "  'foam',\n",
       "  'noodles',\n",
       "  'in',\n",
       "  'the',\n",
       "  'pool',\n",
       "  'Erin',\n",
       "  'accidentally',\n",
       "  'kicked',\n",
       "  'Jennifer',\n",
       "  \"'s\",\n",
       "  'leg',\n",
       "  'in',\n",
       "  'the',\n",
       "  'pool',\n",
       "  'After',\n",
       "  'they',\n",
       "  'swam',\n",
       "  'everyone',\n",
       "  'rinsed',\n",
       "  'off',\n",
       "  'and',\n",
       "  'went',\n",
       "  'inside',\n",
       "  'They',\n",
       "  'ate',\n",
       "  'cake',\n",
       "  'opened',\n",
       "  'presents',\n",
       "  'and',\n",
       "  'watched',\n",
       "  'TV',\n",
       "  'After',\n",
       "  'it',\n",
       "  'got',\n",
       "  'dark',\n",
       "  'they',\n",
       "  'ran',\n",
       "  'up',\n",
       "  'and',\n",
       "  'down',\n",
       "  'the',\n",
       "  'stairway',\n",
       "  'played',\n",
       "  'telephone',\n",
       "  'and',\n",
       "  'told',\n",
       "  'spooky',\n",
       "  'stories',\n",
       "  'Sally',\n",
       "  'tripped',\n",
       "  'going',\n",
       "  'down',\n",
       "  'the',\n",
       "  'stairs',\n",
       "  'and',\n",
       "  'hurt',\n",
       "  'her',\n",
       "  'foot',\n",
       "  'but',\n",
       "  'it',\n",
       "  'felt',\n",
       "  'better',\n",
       "  'soon',\n",
       "  'after',\n",
       "  'Cathy',\n",
       "  'got',\n",
       "  'scared',\n",
       "  'when',\n",
       "  'they',\n",
       "  'were',\n",
       "  'telling',\n",
       "  'stories',\n",
       "  'and',\n",
       "  'wanted',\n",
       "  'to',\n",
       "  'call',\n",
       "  'her',\n",
       "  'mom',\n",
       "  'to',\n",
       "  'go',\n",
       "  'home',\n",
       "  'The',\n",
       "  'other',\n",
       "  'girls',\n",
       "  'told',\n",
       "  'her',\n",
       "  'that',\n",
       "  'it',\n",
       "  'is',\n",
       "  'only',\n",
       "  'a',\n",
       "  'story',\n",
       "  'She',\n",
       "  'felt',\n",
       "  'better',\n",
       "  'They',\n",
       "  'all',\n",
       "  'fell',\n",
       "  'asleep',\n",
       "  'at',\n",
       "  '11',\n",
       "  'Sally',\n",
       "  'was',\n",
       "  'the',\n",
       "  'first',\n",
       "  'to',\n",
       "  'wake',\n",
       "  'up',\n",
       "  'at',\n",
       "  '8',\n",
       "  'in',\n",
       "  'the',\n",
       "  'morning',\n",
       "  'She',\n",
       "  'made',\n",
       "  'pancakes',\n",
       "  'for',\n",
       "  'her',\n",
       "  'and',\n",
       "  'her',\n",
       "  'friends',\n",
       "  'They',\n",
       "  'all',\n",
       "  'loved',\n",
       "  'the',\n",
       "  'pancakes',\n",
       "  'except',\n",
       "  'Erin',\n",
       "  'She',\n",
       "  'ate',\n",
       "  'some',\n",
       "  'fruit',\n",
       "  'instead',\n",
       "  'At',\n",
       "  '10',\n",
       "  'all',\n",
       "  'the',\n",
       "  'girls',\n",
       "  'went',\n",
       "  'back',\n",
       "  'home',\n",
       "  'Sally',\n",
       "  'was',\n",
       "  'happy',\n",
       "  'that',\n",
       "  'she',\n",
       "  'had',\n",
       "  'such',\n",
       "  'a',\n",
       "  'great',\n",
       "  'birthday',\n",
       "  'party'],\n",
       " 'questions': [{'answers': [['10'], ['2'], ['11'], ['1']],\n",
       "   'tokens': ['What', 'time', 'did', 'the', 'party', 'start'],\n",
       "   'type': 'one'},\n",
       "  {'answers': [['Erin', 'and', 'Jennifer'],\n",
       "    ['Cathy', 'and', 'Erin'],\n",
       "    ['Jennifer', 'and', 'Sally'],\n",
       "    ['Erin', 'and', 'Sally']],\n",
       "   'tokens': ['Who', 'got', 'hurt', 'at', 'the', 'party'],\n",
       "   'type': 'multiple'},\n",
       "  {'answers': [['Cathy'], ['Jessica'], ['Sally'], ['Jennifer']],\n",
       "   'tokens': ['Whose', 'birthday', 'is', 'it'],\n",
       "   'type': 'one'},\n",
       "  {'answers': [['1'], ['2'], ['8'], ['10']],\n",
       "   'tokens': ['What',\n",
       "    'time',\n",
       "    'did',\n",
       "    'Jennifer',\n",
       "    'arrive',\n",
       "    'to',\n",
       "    'the',\n",
       "    'party'],\n",
       "   'type': 'multiple'}]}"
      ]
     },
     "execution_count": 181,
     "metadata": {},
     "output_type": "execute_result"
    }
   ],
   "source": [
    "list(test_data.values())[0]"
   ]
  },
  {
   "cell_type": "code",
   "execution_count": 195,
   "metadata": {},
   "outputs": [
    {
     "name": "stdout",
     "output_type": "stream",
     "text": [
      "multiple    0.546667\n",
      "one         0.453333\n",
      "dtype: float64\n",
      "\n",
      "one         0.507692\n",
      "multiple    0.492308\n",
      "dtype: float64\n",
      "\n",
      "multiple    0.195122\n",
      "one         0.242647\n",
      "dtype: float64\n"
     ]
    },
    {
     "data": {
      "text/plain": [
       "<matplotlib.axes._subplots.AxesSubplot at 0x1ad987d8da0>"
      ]
     },
     "execution_count": 195,
     "metadata": {},
     "output_type": "execute_result"
    },
    {
     "data": {
      "image/png": "[encoded data removed]",
      "text/plain": [
       "<matplotlib.figure.Figure at 0x1ad987cac18>"
      ]
     },
     "metadata": {},
     "output_type": "display_data"
    }
   ],
   "source": [
    "correct_info = []\n",
    "for case in correct:\n",
    "    obj = test_data[case[0]]\n",
    "    qa_obj = obj['questions'][case[1]]\n",
    "    q_type = qa_obj['type']\n",
    "    correct_info.append(q_type)\n",
    "        \n",
    "q_type_lst = []\n",
    "for obj in test_data.values():\n",
    "    for qa_obj in obj['questions']:\n",
    "        q_type = qa_obj['type']\n",
    "        q_type_lst.append(q_type)\n",
    "        \n",
    "q_type_dct = Counter(q_type_lst)    \n",
    "test_q_type = describe_lst(q_type_lst, True)\n",
    "pred_q_type = describe_lst(correct_info, True)\n",
    "print (pred_q_type.div(test_q_type, fill_value=0))\n",
    "pred_q_type.div(test_q_type, fill_value=0).plot(kind='bar', alpha=.8, rot=0, figsize=(10, 5))"
   ]
  },
  {
   "cell_type": "code",
   "execution_count": 200,
   "metadata": {},
   "outputs": [],
   "source": [
    "acc_trend = pd.read_csv('./tmp.txt', names=['train_acc', 'test_acc'])"
   ]
  },
  {
   "cell_type": "code",
   "execution_count": 205,
   "metadata": {},
   "outputs": [
    {
     "data": {
      "image/png": "[encoded data removed]",
      "text/plain": [
       "<matplotlib.figure.Figure at 0x1ad995dc5c0>"
      ]
     },
     "metadata": {},
     "output_type": "display_data"
    }
   ],
   "source": [
    "plot = acc_trend.plot(kind='line', figsize=(10, 5))\n",
    "fig = plot.get_figure()\n",
    "fig.savefig('acc_trend', dpi=400)"
   ]
  }
 ],
 "metadata": {
  "kernelspec": {
   "display_name": "Python 3",
   "language": "python",
   "name": "python3"
  },
  "language_info": {
   "codemirror_mode": {
    "name": "ipython",
    "version": 3
   },
   "file_extension": ".py",
   "mimetype": "text/x-python",
   "name": "python",
   "nbconvert_exporter": "python",
   "pygments_lexer": "ipython3",
   "version": "3.6.3"
  }
 },
 "nbformat": 4,
 "nbformat_minor": 2
}
